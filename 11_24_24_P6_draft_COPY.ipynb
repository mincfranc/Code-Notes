{
  "nbformat": 4,
  "nbformat_minor": 0,
  "metadata": {
    "colab": {
      "provenance": [],
      "toc_visible": true,
      "include_colab_link": true
    },
    "kernelspec": {
      "name": "python3",
      "display_name": "Python 3"
    },
    "language_info": {
      "name": "python"
    },
    "accelerator": "GPU",
    "gpuClass": "standard"
  },
  "cells": [
    {
      "cell_type": "markdown",
      "metadata": {
        "id": "view-in-github",
        "colab_type": "text"
      },
      "source": [
        "<a href=\"https://colab.research.google.com/github/mincfranc/Code-Notes/blob/drafts/11_24_24_P6_draft_COPY.ipynb\" target=\"_parent\"><img src=\"https://colab.research.google.com/assets/colab-badge.svg\" alt=\"Open In Colab\"/></a>"
      ]
    },
    {
      "cell_type": "markdown",
      "source": [
        "## Problem Definition\n"
      ],
      "metadata": {
        "id": "f5PuSqe-H8u5"
      }
    },
    {
      "cell_type": "markdown",
      "source": [
        "This project is a supervised classification problem, as it involves training a model on labeled data (images of cats and dogs) to predict the category of new, unseen images.\n",
        "\n",
        "The task highlights the use of deep learning to automate feature extraction and solve a traditionally challenging computer vision problem."
      ],
      "metadata": {
        "id": "YwtBxZ_JIPY6"
      }
    },
    {
      "cell_type": "markdown",
      "source": [
        "```\n",
        "Resources\n",
        "Feature Set: pickled dataset of images (X.pickle), containing raw image data.\n",
        "Target Set: pickled dataset of labels (y.pickle), indicating whether an image is a cat or dog.\n",
        "Test Image: single image (dog.jpg) to validate trained model.\n",
        "```"
      ],
      "metadata": {
        "id": "FScsSKjbIPVe"
      }
    },
    {
      "cell_type": "markdown",
      "source": [
        "# Images – To Do List\n"
      ],
      "metadata": {
        "id": "Z7IxnO3ZGqlL"
      }
    },
    {
      "cell_type": "markdown",
      "source": [
        "\n",
        "Prior to starting this problem, be sure to enable the GPU runtime processing in your Jupyter notebook.\n",
        "\n"
      ],
      "metadata": {
        "id": "09CQVfHpXRMB"
      }
    },
    {
      "cell_type": "markdown",
      "source": [
        "```\n",
        "Keras is a Python library that is used to fit neural networks.\n",
        "\n",
        "The following are the common steps you want to take when fitting a neural network using keras:\n",
        "Load data\n",
        "Define keras model\n",
        "Compile model\n",
        "Fit model\n",
        "Evaluate model\n",
        "Use model for prediction\n",
        "```"
      ],
      "metadata": {
        "id": "9jmXE6qawYl8"
      }
    },
    {
      "cell_type": "markdown",
      "source": [
        "11_23_24_2c-Deep.Learning.Example.ipynb"
      ],
      "metadata": {
        "id": "kOnODSlhCHzQ"
      }
    },
    {
      "cell_type": "markdown",
      "source": [
        "\n",
        "* Write a concise problem definition for the project. Put it in a text field at the top of your Jupyter notebook.\n",
        "\n",
        "* Load necessary packages.\n",
        "\n"
      ],
      "metadata": {
        "id": "nCOQv4YvXPBE"
      }
    },
    {
      "cell_type": "code",
      "source": [
        "import pandas as pd\n",
        "import numpy as np\n",
        "import matplotlib.pyplot as plt\n",
        "import pickle\n",
        "\n",
        "import tensorflow as tf\n",
        "import tensorflow.keras as keras\n",
        "\n",
        "from keras.models import Sequential\n",
        "from keras.layers import Dense, Flatten, Conv2D, MaxPooling2D\n",
        "from keras.utils import plot_model\n",
        "\n",
        "from sklearn import datasets\n",
        "from sklearn.model_selection import train_test_split\n",
        "from sklearn.preprocessing import StandardScaler\n"
      ],
      "metadata": {
        "id": "ZTGmmJGuJOMW"
      },
      "execution_count": null,
      "outputs": []
    },
    {
      "cell_type": "markdown",
      "source": [
        "## Data Collection\n"
      ],
      "metadata": {
        "id": "Ll3rUMEKH_b9"
      }
    },
    {
      "cell_type": "markdown",
      "source": [
        "\n",
        "* Load pickled data from X.pickle and y.pickle from the AWS S3 bucket.\n",
        "\n"
      ],
      "metadata": {
        "id": "DaGpv4TcXNpo"
      }
    },
    {
      "cell_type": "code",
      "source": [
        "url_X = 'https://ddc-datascience.s3.amazonaws.com/Projects/Project.6-Images/Data/X.pickle'"
      ],
      "metadata": {
        "id": "nQTPStF_JO1N"
      },
      "execution_count": null,
      "outputs": []
    },
    {
      "cell_type": "code",
      "source": [
        "!curl -O {url_X}"
      ],
      "metadata": {
        "id": "YE5H5j9E4AKA",
        "collapsed": true
      },
      "execution_count": null,
      "outputs": []
    },
    {
      "cell_type": "markdown",
      "source": [
        "```\n",
        "% Total    % Received % Xferd  Average Speed   Time    Time     Time  Current\n",
        "                               Dload   Upload  Total   Spent    Left  Speed\n",
        "100  237M  100  237M    0     0  24.5M      0  0:00:09  0:00:09 --:--:-- 27.3M\n",
        "```"
      ],
      "metadata": {
        "id": "dONtQFd65IEN"
      }
    },
    {
      "cell_type": "code",
      "source": [
        "data_X = pd.read_pickle(url_X)\n",
        "data_X\n"
      ],
      "metadata": {
        "collapsed": true,
        "id": "EjAuA1LL4AHO"
      },
      "execution_count": null,
      "outputs": []
    },
    {
      "cell_type": "code",
      "source": [
        "data_X.shape"
      ],
      "metadata": {
        "id": "KA5B0qxC4AFE",
        "collapsed": true
      },
      "execution_count": null,
      "outputs": []
    },
    {
      "cell_type": "code",
      "source": [
        "type(data_X)"
      ],
      "metadata": {
        "id": "RgbpQ9Wn4ACU",
        "collapsed": true
      },
      "execution_count": null,
      "outputs": []
    },
    {
      "cell_type": "code",
      "source": [
        "url_y = 'https://ddc-datascience.s3.amazonaws.com/Projects/Project.6-Images/Data/y.pickle'"
      ],
      "metadata": {
        "id": "sgD8OvI53__K"
      },
      "execution_count": null,
      "outputs": []
    },
    {
      "cell_type": "code",
      "source": [
        "!curl -O {url_y}"
      ],
      "metadata": {
        "id": "7vsOgabD585U",
        "collapsed": true
      },
      "execution_count": null,
      "outputs": []
    },
    {
      "cell_type": "markdown",
      "source": [
        "```\n",
        " % Total    % Received % Xferd  Average Speed   Time    Time     Time  Current\n",
        "                                 Dload  Upload   Total   Spent    Left  Speed\n",
        "100 49948  100 49948    0     0   115k      0 --:--:-- --:--:-- --:--:--  115k\n",
        "```"
      ],
      "metadata": {
        "id": "GJy99ZUw6E1R"
      }
    },
    {
      "cell_type": "code",
      "source": [
        "data_y = pd.read_pickle(url_y)\n",
        "data_y"
      ],
      "metadata": {
        "collapsed": true,
        "id": "-VOPx20q581r"
      },
      "execution_count": null,
      "outputs": []
    },
    {
      "cell_type": "code",
      "source": [
        "type(data_y)"
      ],
      "metadata": {
        "id": "b5awbBv758vs",
        "collapsed": true
      },
      "execution_count": null,
      "outputs": []
    },
    {
      "cell_type": "code",
      "source": [
        "len(data_y)"
      ],
      "metadata": {
        "id": "4i9hfT5h6sZc",
        "collapsed": true
      },
      "execution_count": null,
      "outputs": []
    },
    {
      "cell_type": "markdown",
      "source": [
        "## Data Cleaning\n"
      ],
      "metadata": {
        "id": "Qv-tmJlyIBrL"
      }
    },
    {
      "cell_type": "markdown",
      "source": [
        "\n",
        "* Scale the values in X so that they fall between 0 and 1 by dividing by 255.\n",
        "\n"
      ],
      "metadata": {
        "id": "DrJ-2JwDXMYk"
      }
    },
    {
      "cell_type": "code",
      "source": [
        "data_Xscaled = data_X / 255\n",
        "data_Xscaled"
      ],
      "metadata": {
        "id": "EzDPOBMLJPnI",
        "collapsed": true
      },
      "execution_count": null,
      "outputs": []
    },
    {
      "cell_type": "markdown",
      "source": [
        "## Exploratory Data Analysis\n"
      ],
      "metadata": {
        "id": "UDccpNdgIEHR"
      }
    },
    {
      "cell_type": "markdown",
      "source": [
        "\n",
        "* Look at the shape of X and y. Ensure that X is 4 dimensional.\n",
        "\n"
      ],
      "metadata": {
        "id": "VRCwjqGZXLG6"
      }
    },
    {
      "cell_type": "code",
      "source": [
        "data_Xscaled.shape"
      ],
      "metadata": {
        "id": "JP2pJKMBJQhk",
        "collapsed": true
      },
      "execution_count": null,
      "outputs": []
    },
    {
      "cell_type": "code",
      "source": [
        "data_X.shape"
      ],
      "metadata": {
        "id": "N26piW-O7VFq",
        "collapsed": true
      },
      "execution_count": null,
      "outputs": []
    },
    {
      "cell_type": "markdown",
      "source": [
        "```\n",
        "Original data_X and data_Xscaled are 4 dimensional\n",
        "(24946, 100, 100, 1)\n",
        "```"
      ],
      "metadata": {
        "id": "Aws-exoQ7iMD"
      }
    },
    {
      "cell_type": "code",
      "source": [
        "len(data_y)"
      ],
      "metadata": {
        "id": "k-W5ipcM7VCM",
        "collapsed": true
      },
      "execution_count": null,
      "outputs": []
    },
    {
      "cell_type": "markdown",
      "source": [
        "```\n",
        "data_y is a list and cannot obtain shape, used length=\n",
        "24946\n",
        "```"
      ],
      "metadata": {
        "id": "WFkBCDio8GLZ"
      }
    },
    {
      "cell_type": "markdown",
      "source": [
        "* Plot a few ( >5 ) of the images in X using plt.imshow()."
      ],
      "metadata": {
        "id": "DU8sc7r-8jsz"
      }
    },
    {
      "cell_type": "code",
      "source": [
        "plt.imshow(data_Xscaled[11555])"
      ],
      "metadata": {
        "id": "mrgAb5kl7U-6",
        "collapsed": true
      },
      "execution_count": null,
      "outputs": []
    },
    {
      "cell_type": "code",
      "source": [
        "plt.imshow(data_Xscaled[8277])"
      ],
      "metadata": {
        "id": "DGkQW5jU76PU",
        "collapsed": true
      },
      "execution_count": null,
      "outputs": []
    },
    {
      "cell_type": "code",
      "source": [
        "plt.imshow(data_Xscaled[2071])"
      ],
      "metadata": {
        "id": "uaMzJCQ081W5",
        "collapsed": true
      },
      "execution_count": null,
      "outputs": []
    },
    {
      "cell_type": "code",
      "source": [
        "plt.imshow(data_Xscaled[23488])"
      ],
      "metadata": {
        "id": "dyZnTPDN81TL",
        "collapsed": true
      },
      "execution_count": null,
      "outputs": []
    },
    {
      "cell_type": "code",
      "source": [
        "plt.imshow(data_Xscaled[927])"
      ],
      "metadata": {
        "id": "0-_GjJvK82fi",
        "collapsed": true
      },
      "execution_count": null,
      "outputs": []
    },
    {
      "cell_type": "markdown",
      "source": [
        "\n",
        "* Look at the response values in y for those images."
      ],
      "metadata": {
        "id": "ODWdTpFN764L"
      }
    },
    {
      "cell_type": "code",
      "source": [
        "print(data_y[927])\n",
        "print(data_y[2071])\n",
        "print(data_y[11555])\n",
        "print(data_y[23488])\n",
        "print(data_y[8277])"
      ],
      "metadata": {
        "id": "yfyrL9vp9PnX",
        "collapsed": true
      },
      "execution_count": null,
      "outputs": []
    },
    {
      "cell_type": "markdown",
      "source": [
        "```\n",
        "Images data_y values\n",
        "Looks like dogs == 0 and cats == 1\n",
        "[927]       1\n",
        "[2071]      1\n",
        "[11555]     0\n",
        "[23488]     0\n",
        "[8277]      0\n",
        "\n",
        "```"
      ],
      "metadata": {
        "id": "-wUS8FBq-zZc"
      }
    },
    {
      "cell_type": "markdown",
      "source": [
        "* Hint: you may want to start with a random subset to get familiar with the process of building a NN.  Then go through the process again with the full set."
      ],
      "metadata": {
        "id": "WZPdrAwx9i7E"
      }
    },
    {
      "cell_type": "markdown",
      "source": [
        "```\n",
        "With for loop iterate through range of indices in data_Xscaled (from 444 through 484 by increments of 10)\n",
        "```"
      ],
      "metadata": {
        "id": "hHNxr1mJANZr"
      }
    },
    {
      "cell_type": "code",
      "source": [
        "for c in range(444,485,10):\n",
        "  plt.imshow(data_Xscaled[c])"
      ],
      "metadata": {
        "id": "fJRrvdm49j1C",
        "collapsed": true
      },
      "execution_count": null,
      "outputs": []
    },
    {
      "cell_type": "code",
      "source": [
        "# Subset Selection for Demonstration\n",
        "subset_size = 1000\n",
        "random_indices = np.random.choice(data_Xscaled.shape[0], size=subset_size, replace=False)\n",
        "data_Xscaledsub = data_Xscaled[random_indices]\n",
        "data_ysub = np.array(data_y)[random_indices]"
      ],
      "metadata": {
        "id": "-iQSUTLLW609"
      },
      "execution_count": null,
      "outputs": []
    },
    {
      "cell_type": "markdown",
      "source": [
        "## Data Processing\n"
      ],
      "metadata": {
        "id": "1swvVYT3IGoH"
      }
    },
    {
      "cell_type": "markdown",
      "source": [
        "\n",
        "* Split X and y into training and testing sets.\n",
        "\n",
        "*  Build a convolutional neural network with the following:\n",
        "  * Sequential layers\n",
        "  * At least two 2D convolutional layers using the 'relu' activation function and a (3,3) kernel size.\n",
        "  * A MaxPooling2D layer after each 2D convolutional layer that has a pool size of (2,2).\n",
        "  * A dense output layer using the 'sigmoid' activation function.\n",
        "  Note: you can play around with the number of layers and nodes to try to get better performance.\n",
        "\n",
        "* Compile your model. Use the 'adam' optimizer. Determine which loss function and metric is most appropriate for this problem.\n",
        "\n",
        "* Fit your model using the training set.\n",
        "\n",
        "* Evaluate your model using the testing set.\n",
        "\n",
        "* Plot the distribution of probabilities for the testing set.\n",
        "\n",
        "* Define a function that will read in a new image and convert it to a 4 dimensional array of pixels (ask the instructor for help with this). Hint: [numpy.reshape]( https://numpy.org/doc/stable/reference/generated/numpy.reshape.html )\n",
        "\n",
        "* Use the function defined above to read in the dog.jpg image that is saved in the AWS S3 bucket.\n",
        "\n",
        "* Use the neural network you created to predict whether the image is a dog or a cat.\n",
        "\n"
      ],
      "metadata": {
        "id": "-MRKZ22_XI90"
      }
    },
    {
      "cell_type": "markdown",
      "source": [
        "* Split X and y into training and testing sets."
      ],
      "metadata": {
        "id": "jRKp0tSmBK-p"
      }
    },
    {
      "cell_type": "code",
      "source": [
        "X_train, X_test, y_train, y_test = train_test_split(data_Xscaledsub, data_ysub, test_size = 0.25, random_state = 42)"
      ],
      "metadata": {
        "id": "O_AHupOMB018"
      },
      "execution_count": null,
      "outputs": []
    },
    {
      "cell_type": "markdown",
      "source": [
        "* Build a convolutional neural network with the following:\n",
        "  * Sequential layers"
      ],
      "metadata": {
        "id": "4JS0LcLhb_XV"
      }
    },
    {
      "cell_type": "code",
      "source": [
        "model = Sequential()"
      ],
      "metadata": {
        "id": "wf08hy2Kh86y"
      },
      "execution_count": null,
      "outputs": []
    },
    {
      "cell_type": "markdown",
      "source": [
        "*\n",
        "  \n",
        "  * At least two 2D convolutional layers using the 'relu' activation function and a (3,3) kernel size.\n",
        "  * A MaxPooling2D layer after each 2D convolutional layer that has a pool size of (2,2).\n",
        "\n"
      ],
      "metadata": {
        "id": "pXungkZRkH5-"
      }
    },
    {
      "cell_type": "code",
      "source": [
        "#Define input layer\n",
        "model.add(\n",
        "  Conv2D(\n",
        "    name = \"conv_input\",\n",
        "    input_shape = X_train.shape[1:],\n",
        "    filters = 32,\n",
        "    kernel_size = (3,3),\n",
        "    activation = 'relu',\n",
        "  )\n",
        ")\n",
        "\n",
        "model.add(\n",
        "    MaxPooling2D(pool_size=(2,2))\n",
        ")\n"
      ],
      "metadata": {
        "id": "zwBeSKtZiAHV"
      },
      "execution_count": null,
      "outputs": []
    },
    {
      "cell_type": "code",
      "source": [
        "# Define second hidden layer\n",
        "model.add(\n",
        "  Conv2D(\n",
        "    name = \"hidden1\",\n",
        "    filters = 64,\n",
        "    kernel_size = (3,3),\n",
        "    activation = 'relu',\n",
        "  )\n",
        ")\n",
        "\n",
        "model.add(\n",
        "  MaxPooling2D(pool_size=(2,2))\n",
        ")\n"
      ],
      "metadata": {
        "id": "3RfxseimiTfI"
      },
      "execution_count": null,
      "outputs": []
    },
    {
      "cell_type": "markdown",
      "source": [
        "*\n",
        " * A dense output layer using the 'sigmoid' activation function.\n",
        "\n",
        "    Note: you can play around with the number of layers and nodes to try to get better performance."
      ],
      "metadata": {
        "id": "CB5DQWnFk2Fm"
      }
    },
    {
      "cell_type": "code",
      "source": [
        "# Flatten data to be used in output layer\n",
        "model.add(\n",
        "    Flatten()\n",
        ")\n",
        "\n",
        "# Define output layer\n",
        "model.add(\n",
        "  Dense(\n",
        "    name = \"output\",\n",
        "    units = 8,\n",
        "    activation = 'sigmoid'\n",
        "  )\n",
        ")"
      ],
      "metadata": {
        "id": "u_Xnl7s_lHwI"
      },
      "execution_count": null,
      "outputs": []
    },
    {
      "cell_type": "markdown",
      "source": [
        "* Compile your model. Use the 'adam' optimizer. Determine which loss function and metric is most appropriate for this problem."
      ],
      "metadata": {
        "id": "oE_DB_7gcUB_"
      }
    },
    {
      "cell_type": "code",
      "source": [
        "# Compile model\n",
        "model.compile(\n",
        "  optimizer = 'adam',  # Tells Keras model how to learn using algorithm which updates weights of neural network during training\n",
        "  loss = 'binary_crossentropy', #Tells Keras what to aim for using fx measuring diff bt predicted prollys & true labels in trying to predict cat or dog\n",
        "  metrics = ['accuracy'], #Tells Keras how to judge its model's performance measured by its accuracy in making predictions (% correctly classified examples)\n",
        ")"
      ],
      "metadata": {
        "id": "JUlq8mzml4RQ"
      },
      "execution_count": null,
      "outputs": []
    },
    {
      "cell_type": "markdown",
      "source": [
        "* Fit your model using the training set."
      ],
      "metadata": {
        "id": "tJ0giq7vcYaP"
      }
    },
    {
      "cell_type": "code",
      "source": [
        "model.fit(X_train, y_train, epochs=8)"
      ],
      "metadata": {
        "id": "7TBXiAwRnmxb"
      },
      "execution_count": null,
      "outputs": []
    },
    {
      "cell_type": "code",
      "source": [
        "# Actual training of neural network happening here\n",
        "# model.fit(X_train, y_train, epochs=10, batch_size=32)\n",
        "\n",
        "#Model learns to distinguish between cats and dogs based on training data."
      ],
      "metadata": {
        "id": "uFpj1tcFB0oV",
        "collapsed": true
      },
      "execution_count": null,
      "outputs": []
    },
    {
      "cell_type": "code",
      "source": [
        "model.summary()"
      ],
      "metadata": {
        "id": "E1Ng2uTFJj8M"
      },
      "execution_count": null,
      "outputs": []
    },
    {
      "cell_type": "markdown",
      "source": [
        "* Evaluate your model using the testing set."
      ],
      "metadata": {
        "id": "R9QMURqrccAM"
      }
    },
    {
      "cell_type": "code",
      "source": [
        "# Evaluate the Model\n",
        "loss, accuracy = model.evaluate(X_test, y_test)\n",
        "print(f\"Test Loss: {loss:.4f}\")\n",
        "print(f\"Test Accuracy: {accuracy:.4f}\")"
      ],
      "metadata": {
        "id": "4-lxwozRJ4rU"
      },
      "execution_count": null,
      "outputs": []
    },
    {
      "cell_type": "markdown",
      "source": [
        "* Plot the distribution of probabilities for the testing set.\n"
      ],
      "metadata": {
        "id": "9plLWETqcftE"
      }
    },
    {
      "cell_type": "code",
      "source": [
        "plot_model(model)"
      ],
      "metadata": {
        "id": "c70BnOSLB0l7"
      },
      "execution_count": null,
      "outputs": []
    },
    {
      "cell_type": "markdown",
      "source": [
        "* Define a function that will read in a new image and convert it to a 4 dimensional array of pixels (ask the instructor for help with this). Hint: numpy.reshape"
      ],
      "metadata": {
        "id": "9wLTEJM3ciS8"
      }
    },
    {
      "cell_type": "code",
      "source": [],
      "metadata": {
        "id": "V9Q_qmC-B0i0"
      },
      "execution_count": null,
      "outputs": []
    },
    {
      "cell_type": "markdown",
      "source": [
        "* Use the function defined above to read in the dog.jpg image that is saved in the AWS S3 bucket."
      ],
      "metadata": {
        "id": "KIumz9ABcl91"
      }
    },
    {
      "cell_type": "code",
      "source": [
        "# https://ddc-datascience.s3.amazonaws.com/Projects/Project.6-Images/Data/dog.jpg"
      ],
      "metadata": {
        "id": "aRd2VG0xB0XB"
      },
      "execution_count": null,
      "outputs": []
    },
    {
      "cell_type": "code",
      "source": [],
      "metadata": {
        "id": "-yah3iCGB0gO"
      },
      "execution_count": null,
      "outputs": []
    },
    {
      "cell_type": "markdown",
      "source": [
        "* Use the neural network you created to predict whether the image is a dog or a cat."
      ],
      "metadata": {
        "id": "e3gQM5ngcs9-"
      }
    },
    {
      "cell_type": "code",
      "source": [],
      "metadata": {
        "id": "l892WV9yB0aV"
      },
      "execution_count": null,
      "outputs": []
    },
    {
      "cell_type": "markdown",
      "source": [
        "## Communication of Results\n"
      ],
      "metadata": {
        "id": "tT_-Jy7ZIJ3t"
      }
    },
    {
      "cell_type": "markdown",
      "source": [
        "\n",
        "* Communicate the results of your analysis.\n",
        "\n"
      ],
      "metadata": {
        "id": "MzKXfsuvXX7T"
      }
    },
    {
      "cell_type": "markdown",
      "source": [
        "## **BONUS** (optional)\n"
      ],
      "metadata": {
        "id": "ztu8gpNSILmj"
      }
    },
    {
      "cell_type": "markdown",
      "source": [
        "\n",
        "* Upload an image of your (or your friend's or family's) dog or cat and use your model to predict whether the image is a dog or cat.\n",
        "* Hint: you'll probably need to convert the image from color to grayscale.  OpenCV, pillow, and other libraries are your friend."
      ],
      "metadata": {
        "id": "DjGDKT60XY-G"
      }
    },
    {
      "cell_type": "code",
      "source": [],
      "metadata": {
        "id": "zOMNJ9ZyHWTD"
      },
      "execution_count": null,
      "outputs": []
    }
  ]
}